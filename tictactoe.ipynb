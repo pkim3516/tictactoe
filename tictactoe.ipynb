{
 "cells": [
  {
   "cell_type": "markdown",
   "metadata": {},
   "source": [
    "## TicTacToe Game"
   ]
  },
  {
   "cell_type": "code",
   "execution_count": 1,
   "metadata": {},
   "outputs": [],
   "source": [
    "### First python script, this is a user simulation of a tic tac toe game on Python"
   ]
  },
  {
   "cell_type": "code",
   "execution_count": 2,
   "metadata": {},
   "outputs": [],
   "source": [
    "## Step 1: Create blank board"
   ]
  },
  {
   "cell_type": "code",
   "execution_count": 3,
   "metadata": {},
   "outputs": [],
   "source": [
    "tic_board = {'1': ' ' , '2': ' ' , '3': ' ' ,\n",
    "            '4': ' ' , '5': ' ' , '6': ' ' ,\n",
    "            '7': ' ' , '8': ' ' , '9': ' ' }"
   ]
  },
  {
   "cell_type": "code",
   "execution_count": 4,
   "metadata": {},
   "outputs": [],
   "source": [
    "## Step 2: Print the board to the user"
   ]
  },
  {
   "cell_type": "code",
   "execution_count": 5,
   "metadata": {},
   "outputs": [],
   "source": [
    "def board_view():\n",
    "    \n",
    "    \n",
    "    print('|' + tic_board['1'] + '|' + tic_board['2'] + '|' + tic_board['3'] +\n",
    "          '|\\n|' + tic_board['4'] + '|' + tic_board['5'] + '|' + tic_board['6'] + \n",
    "          '|\\n|' + tic_board['7'] + '|' + tic_board['8'] + '|' + tic_board['9'] + '|')\n",
    "    return"
   ]
  },
  {
   "cell_type": "code",
   "execution_count": 6,
   "metadata": {},
   "outputs": [],
   "source": [
    "## Step 3: Define function check_board to check for winning combinations"
   ]
  },
  {
   "cell_type": "code",
   "execution_count": 7,
   "metadata": {},
   "outputs": [],
   "source": [
    "def check_board(i):\n",
    "\n",
    "    if(i==9):\n",
    "        return('Its a draw')\n",
    "    \n",
    "    \n",
    "    elif(i >=5): #at least 5 turns need to be made    \n",
    "    #top line horizontal\n",
    "    \n",
    "        if tic_board['1'] == tic_board['2'] == tic_board['3'] != ' ':\n",
    "                 \n",
    "            return(\"game over\")\n",
    "            \n",
    "        \n",
    "        #mid line horizontal\n",
    "        \n",
    "            \n",
    "        elif tic_board['4'] == tic_board['5'] == tic_board['6'] != ' ':\n",
    "                 \n",
    "            return(\"game over\")\n",
    "            \n",
    "        \n",
    "        #bottom line horizontal\n",
    "            \n",
    "        elif tic_board['7'] == tic_board['8'] == tic_board['9'] != ' ':\n",
    "                 \n",
    "            return(\"game over\")\n",
    "              \n",
    "        \n",
    "        \n",
    "        #first column\n",
    "        \n",
    "        \n",
    "        elif tic_board['1'] == tic_board['4'] == tic_board['7'] != ' ':\n",
    "                 \n",
    "            return(\"game over\")\n",
    "        \n",
    "        #middle column\n",
    "            \n",
    "        elif tic_board['2'] == tic_board['5'] == tic_board['8'] != ' ':\n",
    "                 \n",
    "            return(\"game over\")\n",
    "               \n",
    "        \n",
    "        #last column\n",
    "        \n",
    "        \n",
    "        elif tic_board['3'] == tic_board['6'] == tic_board['9'] != ' ':\n",
    "                 \n",
    "            return(\"game over\")\n",
    "                  \n",
    "        \n",
    "        #diagonal top left, to bottom right\n",
    "            \n",
    "            \n",
    "        elif tic_board['1'] == tic_board['5'] == tic_board['9'] != ' ':\n",
    "                 \n",
    "            return(\"game over\")\n",
    "               \n",
    "        \n",
    "        #diagonal top right to bottom left\n",
    "            \n",
    "        elif tic_board['7'] == tic_board['5'] == tic_board['3'] != ' ':\n",
    "                 \n",
    "            return(\"game over\")\n",
    "        \n",
    "    \n",
    "    else: return(\"keep playing!\")"
   ]
  },
  {
   "cell_type": "code",
   "execution_count": 8,
   "metadata": {},
   "outputs": [],
   "source": [
    "## Step 4: Define game_play function to obtain user inputs"
   ]
  },
  {
   "cell_type": "code",
   "execution_count": 9,
   "metadata": {},
   "outputs": [],
   "source": [
    "\n",
    "def game_play():\n",
    "    \n",
    "    player = 1\n",
    "    \n",
    "    i=0\n",
    "    \n",
    "    board_view()\n",
    "    \n",
    "    while i <= 9: #up to 9 game plays\n",
    "    \n",
    "        #print the board first\n",
    "\n",
    "                \n",
    "        #Player\n",
    "        \n",
    "                \n",
    "\n",
    "        \n",
    "        user_played = 0\n",
    "        \n",
    "                \n",
    "        print(f\"Your turn player {player}\")\n",
    "        \n",
    "        #check place\n",
    "        \n",
    "        while(user_played == 0):\n",
    "\n",
    "            user_input = input()\n",
    "            \n",
    "            if(int(user_input) <= 9 and int(user_input) >= 1):\n",
    "            \n",
    "                if tic_board[user_input] == ' ' and player == 1:\n",
    "                    tic_board[user_input] = 'X'\n",
    "                    user_played = 1\n",
    "                    \n",
    "                elif tic_board[user_input] == ' ' and player == 2:\n",
    "                    tic_board[user_input] = 'O'\n",
    "                    user_played = 1\n",
    "                    \n",
    "         \n",
    "                else:\n",
    "                    print(\"That space is taken!\")\n",
    "                    print(\"Pick another spot!\")\n",
    "                    \n",
    "                    \n",
    "            else:    print(\"The space does not exist\")\n",
    "        \n",
    "       \n",
    "        \n",
    "        i += 1 ##increment\n",
    "        \n",
    "        \n",
    "        if check_board(i) == 'game over':\n",
    "            board_view()\n",
    "            print(\"game over\")\n",
    "            break\n",
    "        \n",
    "        elif check_board(i) == 'its a draw!':\n",
    "            board_view()\n",
    "            print('its a draw')\n",
    "            break\n",
    "       \n",
    "        \n",
    "        \n",
    "        \n",
    "        player = 2\n",
    "        \n",
    "        board_view()\n",
    "    \n",
    "    return     "
   ]
  },
  {
   "cell_type": "code",
   "execution_count": 10,
   "metadata": {},
   "outputs": [],
   "source": [
    "## Step 4: Kick off game play"
   ]
  },
  {
   "cell_type": "code",
   "execution_count": 11,
   "metadata": {},
   "outputs": [
    {
     "name": "stdout",
     "output_type": "stream",
     "text": [
      "| | | |\n",
      "| | | |\n",
      "| | | |\n",
      "Your turn player 1\n",
      "1\n",
      "|X| | |\n",
      "| | | |\n",
      "| | | |\n",
      "Your turn player 2\n",
      "2\n",
      "|X|O| |\n",
      "| | | |\n",
      "| | | |\n",
      "Your turn player 2\n",
      "5\n",
      "|X|O| |\n",
      "| |O| |\n",
      "| | | |\n",
      "Your turn player 2\n",
      "4\n",
      "|X|O| |\n",
      "|O|O| |\n",
      "| | | |\n",
      "Your turn player 2\n",
      "6\n",
      "|X|O| |\n",
      "|O|O|O|\n",
      "| | | |\n",
      "game over\n"
     ]
    }
   ],
   "source": [
    "game_play()"
   ]
  }
 ],
 "metadata": {
  "kernelspec": {
   "display_name": "Python 3",
   "language": "python",
   "name": "python3"
  },
  "language_info": {
   "codemirror_mode": {
    "name": "ipython",
    "version": 3
   },
   "file_extension": ".py",
   "mimetype": "text/x-python",
   "name": "python",
   "nbconvert_exporter": "python",
   "pygments_lexer": "ipython3",
   "version": "3.7.6"
  }
 },
 "nbformat": 4,
 "nbformat_minor": 4
}
